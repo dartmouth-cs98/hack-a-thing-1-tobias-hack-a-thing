{
 "cells": [
  {
   "cell_type": "markdown",
   "metadata": {},
   "source": [
    "# Problem 1: Build basic ML Model without Tensorflow (followed tutorial)"
   ]
  },
  {
   "cell_type": "markdown",
   "metadata": {},
   "source": [
    "### Step 1: Import Relevent Libraries"
   ]
  },
  {
   "cell_type": "code",
   "execution_count": 9,
   "metadata": {},
   "outputs": [],
   "source": [
    "import numpy as np"
   ]
  },
  {
   "cell_type": "markdown",
   "metadata": {},
   "source": [
    "### Step 2: Generate Random Input Data"
   ]
  },
  {
   "cell_type": "code",
   "execution_count": 10,
   "metadata": {},
   "outputs": [
    {
     "name": "stdout",
     "output_type": "stream",
     "text": [
      "the inputs are: \n",
      "[[ -2.44598754  -7.38272624]\n",
      " [-10.58523912  -2.89154484]\n",
      " [ -5.38626623   5.31510214]\n",
      " [ -0.36003119 -10.80334177]\n",
      " [  9.16743226   5.07262853]\n",
      " [  9.84885506  -7.90901709]\n",
      " [  1.60641678   9.22216383]\n",
      " [ -6.65536833  -8.00472393]\n",
      " [ -1.88236989  10.80488485]\n",
      " [-14.19741252   8.50859908]\n",
      " [-10.13687684  -5.78654343]\n",
      " [  9.78177156   1.35480547]\n",
      " [  2.19173243 -14.80779795]\n",
      " [ -6.7440126    6.24977359]\n",
      " [  0.59005441   9.98398628]\n",
      " [ -9.3510186   -6.04205493]\n",
      " [  6.61067462   1.51147486]\n",
      " [-12.76797166  -4.55190192]\n",
      " [ 10.36149303  -3.16860011]\n",
      " [  2.94503686  13.14989384]\n",
      " [ -8.50294135  14.11223216]\n",
      " [ -9.9341626  -10.79288065]\n",
      " [-11.60834559   2.57128354]\n",
      " [ -6.53413452  -1.59094456]\n",
      " [ 11.26030319 -12.7961754 ]\n",
      " [  7.65396335  11.5783453 ]\n",
      " [  5.50215186  -9.67096519]\n",
      " [  7.70312246  10.2648659 ]\n",
      " [ -5.74066654 -12.73250044]\n",
      " [  6.82974092  -4.2436169 ]\n",
      " [ -5.72922168   1.1673098 ]\n",
      " [-10.97317276  -6.61998802]\n",
      " [  6.99788739  -3.7247935 ]\n",
      " [ -3.74385994  -1.63298855]\n",
      " [-13.964299     2.51326958]\n",
      " [  2.83721951  -1.54296308]\n",
      " [ -0.44039684  -1.19225589]\n",
      " [ -9.57346385  -6.21910508]\n",
      " [  1.81512316   2.98896031]\n",
      " [ -9.42137609   8.91330426]\n",
      " [ -2.13328938 -14.48539614]\n",
      " [ 14.13736465  14.46627708]\n",
      " [  0.2627291    0.60776361]\n",
      " [ -2.66354892  12.07060646]\n",
      " [ -0.98681595  12.58185519]\n",
      " [  0.39954834   9.68842813]\n",
      " [  2.82189773   1.86678875]\n",
      " [  7.11019351  -5.8772688 ]\n",
      " [ -5.52406382  -0.86806775]\n",
      " [  7.58969794  -0.09611892]\n",
      " [ -8.67746512  -4.85554787]\n",
      " [ -5.55211891  -7.07469371]\n",
      " [ -6.40299642 -12.34595828]\n",
      " [  4.99760588  -7.63999356]\n",
      " [  6.03552555  12.71844324]\n",
      " [  1.74487693  -1.97051742]\n",
      " [ -1.29847516  11.5668909 ]\n",
      " [ 14.11777758   9.93188729]\n",
      " [ 14.86103834   1.46769289]\n",
      " [  7.51282048  -0.12575904]\n",
      " [ -9.12041437 -13.53627547]\n",
      " [ 10.89640919   8.76743725]\n",
      " [-11.06492012  -4.4559366 ]\n",
      " [ -4.99568608  -8.39666381]\n",
      " [ -3.94276642  10.83182571]\n",
      " [  1.51611928  -5.13234479]\n",
      " [ -5.63167167   1.08459892]\n",
      " [-11.71859081   4.58994544]\n",
      " [-12.4969337  -14.4639248 ]\n",
      " [  8.45115627  14.62726734]\n",
      " [  0.40556857   6.33585731]\n",
      " [-13.46258434  -6.44672618]\n",
      " [  5.6179821  -13.5272514 ]\n",
      " [  1.73152559  -7.46690814]\n",
      " [-13.73647361  -9.77737559]\n",
      " [ -1.43353034  13.58928013]\n",
      " [-13.41625754  -2.55919374]\n",
      " [-11.83338944   6.30633557]\n",
      " [  8.15076297  -7.33232764]\n",
      " [ -8.53034968 -10.23413648]\n",
      " [ -8.67695848  -3.57512513]\n",
      " [-14.79644194 -14.54378916]\n",
      " [-14.72661288   1.26016447]\n",
      " [ 10.00004813   4.38047957]\n",
      " [-11.62258379  -3.67805161]\n",
      " [ 13.12800018   2.16195584]\n",
      " [  0.3548569    0.74750613]\n",
      " [ 10.81793106 -13.78618419]\n",
      " [  0.80790513  -8.61586143]\n",
      " [ -8.91332623   7.2477082 ]\n",
      " [  9.63656845   4.77275767]\n",
      " [ -1.75139203  -1.64452944]\n",
      " [ -8.18577524  13.7569943 ]\n",
      " [ -6.42662107  -8.15043633]\n",
      " [ -7.27759805   4.05379218]\n",
      " [ 12.22112653  -8.19431122]\n",
      " [ -3.96073019 -14.89417238]\n",
      " [ -1.66787765   6.33246699]\n",
      " [ -1.11027712  -9.1165983 ]\n",
      " [ -4.1387141    9.91055003]\n",
      " [ -3.30667809 -10.04371126]\n",
      " [ -3.46101731 -11.14343446]\n",
      " [ -7.41511545 -11.57685626]\n",
      " [ -6.81879701  -3.94246989]\n",
      " [  1.75911732  -9.7680294 ]\n",
      " [  6.62700195 -10.20823109]\n",
      " [  5.09969699 -10.55256308]\n",
      " [ -7.43960631   8.60849677]\n",
      " [ -0.36849491   4.86958768]\n",
      " [  1.60047051  11.89541038]\n",
      " [ -9.39203084 -12.52892539]\n",
      " [-12.4645341   -5.96186865]\n",
      " [ -0.64260156  -4.41870184]\n",
      " [ -7.47777241  -6.06886644]\n",
      " [  3.7164809    7.17554725]\n",
      " [  2.5787744    8.21239096]\n",
      " [ -1.29177015  -8.35865816]\n",
      " [ -6.94410654  -4.51090446]]\n",
      "(118, 2)\n"
     ]
    }
   ],
   "source": [
    "obs = 118\n",
    "xs = np.random.uniform(low=-15,high=15,size=(obs, 1))\n",
    "zs = np.random.uniform(-15, 15, (obs, 1))\n",
    "inputs = np.column_stack((xs, zs))\n",
    "print (\"the inputs are: \\n\" + str(inputs))\n",
    "print (inputs.shape)"
   ]
  },
  {
   "cell_type": "markdown",
   "metadata": {},
   "source": [
    "### Step 3: Create Noise / Targets & Intialize Variables"
   ]
  },
  {
   "cell_type": "code",
   "execution_count": 11,
   "metadata": {},
   "outputs": [
    {
     "name": "stdout",
     "output_type": "stream",
     "text": [
      "the shape of the targets is (118, 1)\n",
      "[[-0.10114592]\n",
      " [ 0.05230368]]\n",
      "[-0.1313693]\n"
     ]
    }
   ],
   "source": [
    "# create targets \n",
    "noise = np.random.uniform(-2,2,(obs, 1)) \n",
    "\n",
    "X_CONSTANT = 5\n",
    "Z_CONSTANT = -3\n",
    "targets = X_CONSTANT*xs + Z_CONSTANT*zs + noise\n",
    "print (\"the shape of the targets is \" + str(targets.shape))\n",
    "\n",
    "# intialize variables\n",
    "\n",
    "init_range = 0.2\n",
    "weights = np.random.uniform(-init_range, init_range, size = (2,1))\n",
    "biases = np.random.uniform(-init_range, init_range, size=1)\n",
    "\n",
    "print (weights)\n",
    "print (biases)\n"
   ]
  },
  {
   "cell_type": "markdown",
   "metadata": {},
   "source": [
    "### Step 4: Train the Model"
   ]
  },
  {
   "cell_type": "code",
   "execution_count": 12,
   "metadata": {},
   "outputs": [
    {
     "name": "stdout",
     "output_type": "stream",
     "text": [
      "actual weight: 5, calculated weight: 5.016515527871507\n",
      "actual weight: -3, calculated weight: -2.997205394960963\n"
     ]
    }
   ],
   "source": [
    "# set learning rate\n",
    "learning_rate = 0.02\n",
    "\n",
    "# train the model\n",
    "for i in range (500):\n",
    "    \n",
    "    # calcualte the projected outputs and difference from expectation\n",
    "    outputs = np.dot(inputs,weights) + biases\n",
    "    diff = outputs - targets\n",
    "    \n",
    "    # instead of mean_squared_error, I am going to do MAD - mean absolute deviation\n",
    "    loss = np.sum(abs(diff)) / obs\n",
    "    \n",
    "    diff_scaled = diff / obs\n",
    "    weights -= learning_rate * np.dot(inputs.T, diff_scaled)\n",
    "    biases -= learning_rate * np.sum(diff_scaled)\n",
    "    \n",
    "print (\"actual weight: 5, calculated weight: \" + str(float(weights[0])))\n",
    "print (\"actual weight: -3, calculated weight: \" + str(float(weights[1])))\n"
   ]
  },
  {
   "cell_type": "markdown",
   "metadata": {},
   "source": [
    "#### Attempting with TensorFlow"
   ]
  },
  {
   "cell_type": "code",
   "execution_count": 13,
   "metadata": {},
   "outputs": [
    {
     "name": "stdout",
     "output_type": "stream",
     "text": [
      "Epoch 1/25\n",
      "313/313 [==============================] - 1s 3ms/step - loss: 28.8610\n",
      "Epoch 2/25\n",
      "313/313 [==============================] - 1s 2ms/step - loss: 0.2063\n",
      "Epoch 3/25\n",
      "313/313 [==============================] - 1s 2ms/step - loss: 0.1726\n",
      "Epoch 4/25\n",
      "313/313 [==============================] - 0s 1ms/step - loss: 0.1777\n",
      "Epoch 5/25\n",
      "313/313 [==============================] - 0s 2ms/step - loss: 0.1762\n",
      "Epoch 6/25\n",
      "313/313 [==============================] - 0s 2ms/step - loss: 0.1779\n",
      "Epoch 7/25\n",
      "313/313 [==============================] - 0s 1ms/step - loss: 0.1786\n",
      "Epoch 8/25\n",
      "313/313 [==============================] - 0s 1ms/step - loss: 0.1799\n",
      "Epoch 9/25\n",
      "313/313 [==============================] - 0s 1ms/step - loss: 0.1783\n",
      "Epoch 10/25\n",
      "313/313 [==============================] - 0s 1ms/step - loss: 0.1757\n",
      "Epoch 11/25\n",
      "313/313 [==============================] - 0s 1ms/step - loss: 0.1741\n",
      "Epoch 12/25\n",
      "313/313 [==============================] - 0s 2ms/step - loss: 0.1739\n",
      "Epoch 13/25\n",
      "313/313 [==============================] - 0s 1ms/step - loss: 0.1770\n",
      "Epoch 14/25\n",
      "313/313 [==============================] - 0s 1ms/step - loss: 0.1785\n",
      "Epoch 15/25\n",
      "313/313 [==============================] - 0s 1ms/step - loss: 0.1757\n",
      "Epoch 16/25\n",
      "313/313 [==============================] - 0s 1ms/step - loss: 0.1760\n",
      "Epoch 17/25\n",
      "313/313 [==============================] - 0s 1ms/step - loss: 0.1787\n",
      "Epoch 18/25\n",
      "313/313 [==============================] - 0s 1ms/step - loss: 0.1776\n",
      "Epoch 19/25\n",
      "313/313 [==============================] - 0s 1ms/step - loss: 0.1769\n",
      "Epoch 20/25\n",
      "313/313 [==============================] - 0s 1ms/step - loss: 0.1747\n",
      "Epoch 21/25\n",
      "313/313 [==============================] - 0s 1ms/step - loss: 0.1738\n",
      "Epoch 22/25\n",
      "313/313 [==============================] - 0s 1ms/step - loss: 0.1778\n",
      "Epoch 23/25\n",
      "313/313 [==============================] - 0s 1ms/step - loss: 0.1796\n",
      "Epoch 24/25\n",
      "313/313 [==============================] - 0s 1ms/step - loss: 0.1768\n",
      "Epoch 25/25\n",
      "313/313 [==============================] - 0s 1ms/step - loss: 0.1740\n"
     ]
    },
    {
     "data": {
      "image/png": "[encoded data removed]",
      "text/plain": [
       "<Figure size 432x288 with 1 Axes>"
      ]
     },
     "metadata": {
      "needs_background": "light"
     },
     "output_type": "display_data"
    }
   ],
   "source": [
    "import numpy\n",
    "import matplotlib.pyplot as plt\n",
    "import tensorflow as tf\n",
    "\n",
    "obs = 10000\n",
    "xs = np.random.uniform(low=-8,high=8,size=(obs, 1))\n",
    "zs = np.random.uniform(-12, 12, (obs, 1))\n",
    "generated_inputs = np.column_stack(((xs,zs)))\n",
    "\n",
    "\n",
    "generated_targets = 12*xs - 6*zs\n",
    "\n",
    "np.savez(\"TF_intro\", inputs=generated_inputs, targets=generated_targets)\n",
    "\n",
    "training_data = np.load(\"TF_intro.npz\")\n",
    "\n",
    "# unlike other packages, when employing tf we must actually build the model\n",
    "\n",
    "model = tf.keras.Sequential([tf.keras.layers.Dense(1,kernel_initializer = 'zeros', bias_initializer = 'zeros')])\n",
    "\n",
    "# my loss function\n",
    "def my_loss_fn(y_true, y_pred):\n",
    "    absolute_diff = tf.math.abs(y_true - y_pred)\n",
    "    return absolute_diff\n",
    "\n",
    "\n",
    "model.compile(loss=my_loss_fn, optimizer='sgd')\n",
    "\n",
    "model.fit(training_data['inputs'], training_data['targets'], epochs=25)\n",
    "\n",
    "plt.plot(np.squeeze(model.predict_on_batch(training_data['inputs'])), np.squeeze(training_data[\"targets\"]))\n",
    "\n",
    "plt.xlabel('inputs')\n",
    "plt.ylabel('outputs')\n",
    "plt.show()"
   ]
  },
  {
   "cell_type": "markdown",
   "metadata": {},
   "source": [
    "# Question 2: Working on Audiobooks_data"
   ]
  },
  {
   "cell_type": "markdown",
   "metadata": {},
   "source": [
    "Note: code below comes from a Udemy tutorial... I did however write it all up and comment myself"
   ]
  },
  {
   "cell_type": "markdown",
   "metadata": {},
   "source": [
    "### 1. Load, balance, and shuffle dataset"
   ]
  },
  {
   "cell_type": "code",
   "execution_count": 14,
   "metadata": {},
   "outputs": [],
   "source": [
    "# importing again...\n",
    "import numpy as np\n",
    "from sklearn import preprocessing # helpful to clean up data\n",
    "\n",
    "raw_csv_data = np.loadtxt('Audiobooks_data.csv', delimiter = ',')\n",
    "\n",
    "unscaled_inputs_all = raw_csv_data[:,1:-1] #get all columns besides the first (customer ID) and last one\n",
    "targets_all = raw_csv_data[:, -1] # the target (outcome) is the last column\n",
    "\n",
    "# need to get an equal amount of 0 and 1s (balanced dataset)\n",
    "\n",
    "num_one_targets = int(np.sum(targets_all)) # number of ones\n",
    "zero_targets_counter = 0\n",
    "indices_to_remove = []\n",
    "\n",
    "numtargets = targets_all.shape[0]\n",
    "\n",
    "for i in range(numtargets):\n",
    "    if targets_all[i] == 0:\n",
    "        zero_targets_counter += 1\n",
    "        if zero_targets_counter > num_one_targets: \n",
    "            indices_to_remove.append(i) # removal enables balance\n",
    "\n",
    "# these new variables are the same as above but with removed indices\n",
    "unscaled_inputs_equal_priors = np.delete(unscaled_inputs_all, indices_to_remove, axis = 0)\n",
    "targets_equal_priors = np.delete(targets_all, indices_to_remove, axis = 0)\n",
    "\n",
    "# standardize & shuffle data\n",
    "\n",
    "# standardize inputs\n",
    "scaled_inputs = preprocessing.scale(unscaled_inputs_equal_priors)\n",
    "\n",
    "# shuffle data - it was originally arranged by date, which could be a confounding factor\n",
    "shuffled_indices = np.arange(scaled_inputs.shape[0])\n",
    "np.random.shuffle(shuffled_indices)\n",
    "shuffled_inputs = scaled_inputs[shuffled_indices]\n",
    "shuffled_targets = targets_equal_priors[shuffled_indices]\n"
   ]
  },
  {
   "cell_type": "markdown",
   "metadata": {},
   "source": [
    "### 2. Split dataset into test, train, validation"
   ]
  },
  {
   "cell_type": "code",
   "execution_count": 15,
   "metadata": {},
   "outputs": [],
   "source": [
    "samples_count = shuffled_inputs.shape[0]\n",
    "\n",
    "# constants to fiddle around with\n",
    "percent_train = 0.8\n",
    "percent_test = 0.1\n",
    "\n",
    "train_samples_count = int(percent_train * samples_count)\n",
    "test_samples_count = int(percent_test * samples_count)\n",
    "validation_samples_count = samples_count - train_samples_count - test_samples_count\n",
    "\n",
    "# this gets the first x of each input/target to be train, next to be test, last to be validation\n",
    "train_inputs = shuffled_inputs[:train_samples_count]\n",
    "train_targets = shuffled_targets[:train_samples_count]\n",
    "\n",
    "test_inputs = shuffled_inputs[train_samples_count:train_samples_count+test_samples_count]\n",
    "test_targets = shuffled_targets[train_samples_count:train_samples_count+test_samples_count]\n",
    "\n",
    "validation_inputs = shuffled_inputs[train_samples_count+test_samples_count:]\n",
    "validation_targets = shuffled_targets[train_samples_count+test_samples_count:]\n",
    "\n",
    "# Save up the train, validation, and test as npzs\n",
    "np.savez(\"Audiobooks_data_train\", inputs=train_inputs, targets=train_targets)\n",
    "np.savez(\"Audiobooks_data_test\", inputs=test_inputs, targets=test_targets)\n",
    "np.savez(\"Audiobooks_data_validation\", inputs=validation_inputs, targets=validation_targets)\n"
   ]
  },
  {
   "cell_type": "markdown",
   "metadata": {},
   "source": [
    "### 3. Load in npz"
   ]
  },
  {
   "cell_type": "code",
   "execution_count": 16,
   "metadata": {},
   "outputs": [],
   "source": [
    "npz = np.load(\"Audiobooks_data_train.npz\")\n",
    "train_inputs = npz[\"inputs\"].astype(np.float)\n",
    "train_targets = npz[\"targets\"].astype(np.int) # since the outcome is 0 or 1\n",
    "\n",
    "npz = np.load(\"Audiobooks_data_validation.npz\")\n",
    "validation_inputs = npz[\"inputs\"].astype(np.float)\n",
    "validation_targets = npz[\"targets\"].astype(np.int)\n",
    "\n",
    "npz = np.load(\"Audiobooks_data_test.npz\")\n",
    "test_inputs = npz[\"inputs\"].astype(np.float)\n",
    "test_targets = npz[\"targets\"].astype(np.int)"
   ]
  },
  {
   "cell_type": "markdown",
   "metadata": {},
   "source": [
    "### 4. Outline Model"
   ]
  },
  {
   "cell_type": "code",
   "execution_count": 17,
   "metadata": {},
   "outputs": [],
   "source": [
    "input_size = 10\n",
    "output_size = 2\n",
    "hidden_layer_size = 20\n",
    "\n",
    "model = tf.keras.Sequential([\n",
    "                            tf.keras.layers.Dense(hidden_layer_size, activation='elu'),\n",
    "                            tf.keras.layers.Dense(hidden_layer_size, activation='elu'),\n",
    "                            tf.keras.layers.Dense(hidden_layer_size, activation='elu'),\n",
    "                            tf.keras.layers.Dense(output_size, activation='softmax')\n",
    "                            ])\n",
    "\n",
    "model.compile(optimizer='adam', loss='sparse_categorical_crossentropy', metrics=['accuracy'])\n"
   ]
  },
  {
   "cell_type": "markdown",
   "metadata": {},
   "source": [
    "### 5. Train Model"
   ]
  },
  {
   "cell_type": "code",
   "execution_count": 18,
   "metadata": {},
   "outputs": [
    {
     "name": "stdout",
     "output_type": "stream",
     "text": [
      "Epoch 1/100\n",
      "36/36 - 0s - loss: 0.4770 - accuracy: 0.7896\n",
      "Epoch 2/100\n",
      "36/36 - 0s - loss: 0.3426 - accuracy: 0.8773\n",
      "Epoch 3/100\n",
      "36/36 - 0s - loss: 0.3112 - accuracy: 0.8860\n",
      "Epoch 4/100\n",
      "36/36 - 0s - loss: 0.2976 - accuracy: 0.8919\n",
      "Epoch 5/100\n",
      "36/36 - 0s - loss: 0.2875 - accuracy: 0.8935\n",
      "Epoch 6/100\n",
      "36/36 - 0s - loss: 0.2814 - accuracy: 0.8947\n",
      "Epoch 7/100\n",
      "36/36 - 0s - loss: 0.2757 - accuracy: 0.8949\n",
      "Epoch 8/100\n",
      "36/36 - 0s - loss: 0.2700 - accuracy: 0.8963\n",
      "Epoch 9/100\n",
      "36/36 - 0s - loss: 0.2658 - accuracy: 0.8986\n",
      "Epoch 10/100\n",
      "36/36 - 0s - loss: 0.2633 - accuracy: 0.8972\n",
      "Epoch 11/100\n",
      "36/36 - 0s - loss: 0.2601 - accuracy: 0.9011\n",
      "Epoch 12/100\n",
      "36/36 - 0s - loss: 0.2576 - accuracy: 0.9011\n",
      "Epoch 13/100\n",
      "36/36 - 0s - loss: 0.2561 - accuracy: 0.9019\n",
      "Epoch 14/100\n",
      "36/36 - 0s - loss: 0.2561 - accuracy: 0.9028\n",
      "Epoch 15/100\n",
      "36/36 - 0s - loss: 0.2531 - accuracy: 0.9028\n",
      "Epoch 16/100\n",
      "36/36 - 0s - loss: 0.2544 - accuracy: 0.9028\n",
      "Epoch 17/100\n",
      "36/36 - 0s - loss: 0.2508 - accuracy: 0.9033\n",
      "Epoch 18/100\n",
      "36/36 - 0s - loss: 0.2496 - accuracy: 0.9047\n",
      "Epoch 19/100\n",
      "36/36 - 0s - loss: 0.2478 - accuracy: 0.9064\n",
      "Epoch 20/100\n",
      "36/36 - 0s - loss: 0.2483 - accuracy: 0.9078\n",
      "Epoch 21/100\n",
      "36/36 - 0s - loss: 0.2446 - accuracy: 0.9064\n",
      "Epoch 22/100\n",
      "36/36 - 0s - loss: 0.2435 - accuracy: 0.9070\n",
      "Epoch 23/100\n",
      "36/36 - 0s - loss: 0.2419 - accuracy: 0.9081\n",
      "Epoch 24/100\n",
      "36/36 - 0s - loss: 0.2415 - accuracy: 0.9067\n",
      "Epoch 25/100\n",
      "36/36 - 0s - loss: 0.2424 - accuracy: 0.9078\n",
      "Epoch 26/100\n",
      "36/36 - 0s - loss: 0.2425 - accuracy: 0.9072\n",
      "Epoch 27/100\n",
      "36/36 - 0s - loss: 0.2396 - accuracy: 0.9072\n",
      "Epoch 28/100\n",
      "36/36 - 0s - loss: 0.2376 - accuracy: 0.9081\n",
      "Epoch 29/100\n",
      "36/36 - 0s - loss: 0.2393 - accuracy: 0.9086\n",
      "Epoch 30/100\n",
      "36/36 - 0s - loss: 0.2392 - accuracy: 0.9100\n",
      "Epoch 31/100\n",
      "36/36 - 0s - loss: 0.2366 - accuracy: 0.9095\n",
      "Epoch 32/100\n",
      "36/36 - 0s - loss: 0.2393 - accuracy: 0.9100\n",
      "Epoch 33/100\n",
      "36/36 - 0s - loss: 0.2360 - accuracy: 0.9092\n",
      "Epoch 34/100\n",
      "36/36 - 0s - loss: 0.2367 - accuracy: 0.9109\n",
      "Epoch 35/100\n",
      "36/36 - 0s - loss: 0.2351 - accuracy: 0.9103\n",
      "Epoch 36/100\n",
      "36/36 - 0s - loss: 0.2369 - accuracy: 0.9078\n",
      "Epoch 37/100\n",
      "36/36 - 0s - loss: 0.2355 - accuracy: 0.9103\n",
      "Epoch 38/100\n",
      "36/36 - 0s - loss: 0.2352 - accuracy: 0.9106\n",
      "Epoch 39/100\n",
      "36/36 - 0s - loss: 0.2368 - accuracy: 0.9095\n",
      "Epoch 40/100\n",
      "36/36 - 0s - loss: 0.2324 - accuracy: 0.9106\n",
      "Epoch 41/100\n",
      "36/36 - 0s - loss: 0.2359 - accuracy: 0.9098\n",
      "Epoch 42/100\n",
      "36/36 - 0s - loss: 0.2348 - accuracy: 0.9106\n",
      "Epoch 43/100\n",
      "36/36 - 0s - loss: 0.2350 - accuracy: 0.9106\n",
      "Epoch 44/100\n",
      "36/36 - 0s - loss: 0.2326 - accuracy: 0.9123\n",
      "Epoch 45/100\n",
      "36/36 - 0s - loss: 0.2331 - accuracy: 0.9092\n",
      "Epoch 46/100\n",
      "36/36 - 0s - loss: 0.2344 - accuracy: 0.9111\n",
      "Epoch 47/100\n",
      "36/36 - 0s - loss: 0.2348 - accuracy: 0.9095\n",
      "Epoch 48/100\n",
      "36/36 - 0s - loss: 0.2319 - accuracy: 0.9100\n",
      "Epoch 49/100\n",
      "36/36 - 0s - loss: 0.2316 - accuracy: 0.9128\n",
      "Epoch 50/100\n",
      "36/36 - 0s - loss: 0.2321 - accuracy: 0.9134\n",
      "Epoch 51/100\n",
      "36/36 - 0s - loss: 0.2309 - accuracy: 0.9098\n",
      "Epoch 52/100\n",
      "36/36 - 0s - loss: 0.2303 - accuracy: 0.9109\n",
      "Epoch 53/100\n",
      "36/36 - 0s - loss: 0.2330 - accuracy: 0.9123\n",
      "Epoch 54/100\n",
      "36/36 - 0s - loss: 0.2284 - accuracy: 0.9134\n",
      "Epoch 55/100\n",
      "36/36 - 0s - loss: 0.2276 - accuracy: 0.9145\n",
      "Epoch 56/100\n",
      "36/36 - 0s - loss: 0.2303 - accuracy: 0.9123\n",
      "Epoch 57/100\n",
      "36/36 - 0s - loss: 0.2280 - accuracy: 0.9125\n",
      "Epoch 58/100\n",
      "36/36 - 0s - loss: 0.2279 - accuracy: 0.9128\n",
      "Epoch 59/100\n",
      "36/36 - 0s - loss: 0.2293 - accuracy: 0.9148\n",
      "Epoch 60/100\n",
      "36/36 - 0s - loss: 0.2271 - accuracy: 0.9114\n",
      "Epoch 61/100\n",
      "36/36 - 0s - loss: 0.2297 - accuracy: 0.9139\n",
      "Epoch 62/100\n",
      "36/36 - 0s - loss: 0.2275 - accuracy: 0.9123\n",
      "Epoch 63/100\n",
      "36/36 - 0s - loss: 0.2272 - accuracy: 0.9137\n",
      "Epoch 64/100\n",
      "36/36 - 0s - loss: 0.2274 - accuracy: 0.9153\n",
      "Epoch 65/100\n",
      "36/36 - 0s - loss: 0.2271 - accuracy: 0.9134\n",
      "Epoch 66/100\n",
      "36/36 - 0s - loss: 0.2275 - accuracy: 0.9151\n",
      "Epoch 67/100\n",
      "36/36 - 0s - loss: 0.2285 - accuracy: 0.9151\n",
      "Epoch 68/100\n",
      "36/36 - 0s - loss: 0.2270 - accuracy: 0.9153\n",
      "Epoch 69/100\n",
      "36/36 - 0s - loss: 0.2276 - accuracy: 0.9125\n",
      "Epoch 70/100\n",
      "36/36 - 0s - loss: 0.2274 - accuracy: 0.9159\n",
      "Epoch 71/100\n",
      "36/36 - 0s - loss: 0.2268 - accuracy: 0.9139\n",
      "Epoch 72/100\n",
      "36/36 - 0s - loss: 0.2280 - accuracy: 0.9134\n",
      "Epoch 73/100\n",
      "36/36 - 0s - loss: 0.2258 - accuracy: 0.9145\n",
      "Epoch 74/100\n",
      "36/36 - 0s - loss: 0.2257 - accuracy: 0.9142\n",
      "Epoch 75/100\n",
      "36/36 - 0s - loss: 0.2250 - accuracy: 0.9153\n",
      "Epoch 76/100\n",
      "36/36 - 0s - loss: 0.2253 - accuracy: 0.9120\n",
      "Epoch 77/100\n",
      "36/36 - 0s - loss: 0.2266 - accuracy: 0.9142\n",
      "Epoch 78/100\n",
      "36/36 - 0s - loss: 0.2280 - accuracy: 0.9151\n",
      "Epoch 79/100\n",
      "36/36 - 0s - loss: 0.2281 - accuracy: 0.9134\n",
      "Epoch 80/100\n",
      "36/36 - 0s - loss: 0.2253 - accuracy: 0.9131\n",
      "Epoch 81/100\n",
      "36/36 - 0s - loss: 0.2265 - accuracy: 0.9142\n",
      "Epoch 82/100\n",
      "36/36 - 0s - loss: 0.2238 - accuracy: 0.9137\n",
      "Epoch 83/100\n",
      "36/36 - 0s - loss: 0.2262 - accuracy: 0.9142\n",
      "Epoch 84/100\n",
      "36/36 - 0s - loss: 0.2236 - accuracy: 0.9148\n",
      "Epoch 85/100\n",
      "36/36 - 0s - loss: 0.2228 - accuracy: 0.9153\n",
      "Epoch 86/100\n",
      "36/36 - 0s - loss: 0.2256 - accuracy: 0.9151\n",
      "Epoch 87/100\n",
      "36/36 - 0s - loss: 0.2244 - accuracy: 0.9125\n",
      "Epoch 88/100\n",
      "36/36 - 0s - loss: 0.2225 - accuracy: 0.9151\n",
      "Epoch 89/100\n",
      "36/36 - 0s - loss: 0.2249 - accuracy: 0.9162\n",
      "Epoch 90/100\n",
      "36/36 - 0s - loss: 0.2227 - accuracy: 0.9159\n",
      "Epoch 91/100\n",
      "36/36 - 0s - loss: 0.2264 - accuracy: 0.9117\n",
      "Epoch 92/100\n",
      "36/36 - 0s - loss: 0.2277 - accuracy: 0.9131\n",
      "Epoch 93/100\n",
      "36/36 - 0s - loss: 0.2251 - accuracy: 0.9145\n",
      "Epoch 94/100\n",
      "36/36 - 0s - loss: 0.2225 - accuracy: 0.9145\n",
      "Epoch 95/100\n",
      "36/36 - 0s - loss: 0.2245 - accuracy: 0.9142\n",
      "Epoch 96/100\n",
      "36/36 - 0s - loss: 0.2226 - accuracy: 0.9153\n",
      "Epoch 97/100\n",
      "36/36 - 0s - loss: 0.2218 - accuracy: 0.9162\n",
      "Epoch 98/100\n",
      "36/36 - 0s - loss: 0.2248 - accuracy: 0.9145\n",
      "Epoch 99/100\n",
      "36/36 - 0s - loss: 0.2261 - accuracy: 0.9142\n",
      "Epoch 100/100\n",
      "36/36 - 0s - loss: 0.2251 - accuracy: 0.9156\n",
      "14/14 [==============================] - 0s 2ms/step - loss: 0.2003 - accuracy: 0.9351\n",
      "this is test loss: 0.20028327405452728\n",
      "this is test accuracy: 0.9351230263710022\n"
     ]
    }
   ],
   "source": [
    "max_epochs = 100\n",
    "batch_size = 100\n",
    "\n",
    "model.fit(train_inputs, \n",
    "          train_targets, \n",
    "          batch_size = batch_size, \n",
    "          epochs = max_epochs, # number of iterations\n",
    "          verbose=2)\n",
    "\n",
    "# test the model\n",
    "test_loss, test_accuracy = model.evaluate(test_inputs, test_targets)\n",
    "\n",
    "print (\"this is test loss: \" + str(test_loss) + \"\\n\" + \"this is test accuracy: \" + str(test_accuracy))"
   ]
  },
  {
   "cell_type": "markdown",
   "metadata": {},
   "source": [
    "# Question 3: Working on MNIST (handwritten digits)\n"
   ]
  },
  {
   "cell_type": "markdown",
   "metadata": {},
   "source": [
    "The MNIST dataset is the \"hello world\" of Machine Learning. It is a file of 70k handwritten digits, where each image is 28x28 pixels, and the input vale of each pixel is 0-255 where 0 is black and 255 is white.\n",
    "\n",
    "We will be running a deep neural network with 2 hidden layers, and 10 output units (0 to 9 is the answer)"
   ]
  },
  {
   "cell_type": "markdown",
   "metadata": {},
   "source": [
    "### 1. Import revelent libraries & split data"
   ]
  },
  {
   "cell_type": "code",
   "execution_count": 19,
   "metadata": {},
   "outputs": [],
   "source": [
    "import tensorflow_datasets as tfds\n",
    "\n",
    "# load data\n",
    "mnist_data, mnist_info = tfds.load(name=\"mnist\", with_info=True, as_supervised = True)\n",
    "# split\n",
    "mnist_train = mnist_data[\"train\"]\n",
    "mnist_test = mnist_data[\"test\"]\n",
    "\n",
    "# get validation\n",
    "VALIDATION_PERCENT = 0.1\n",
    "\n",
    "num_validation = VALIDATION_PERCENT * mnist_info.splits[\"train\"].num_examples\n",
    "num_validation = tf.cast(num_validation, tf.int64)\n",
    "num_test = mnist_info.splits[\"test\"].num_examples\n",
    "num_test = tf.cast(num_test, tf.int64)"
   ]
  },
  {
   "cell_type": "markdown",
   "metadata": {},
   "source": [
    "### 2. Scale Data"
   ]
  },
  {
   "cell_type": "code",
   "execution_count": 20,
   "metadata": {},
   "outputs": [],
   "source": [
    "def scale(image, label):\n",
    "    image = tf.cast(image, tf.float32)\n",
    "    return (image/255), label\n",
    "\n",
    "scaled_train_and_validation_data = mnist_train.map(scale)\n",
    "\n",
    "test_data = mnist_test.map(scale)"
   ]
  },
  {
   "cell_type": "markdown",
   "metadata": {},
   "source": [
    "### 3. Shuffle and batch data"
   ]
  },
  {
   "cell_type": "code",
   "execution_count": 21,
   "metadata": {},
   "outputs": [],
   "source": [
    "BUFFER_SIZE = 10000 #dealing w/ enormous datasets, can't shuffle it all at once!\n",
    "\n",
    "shuffled_train_and_validation_data = scaled_train_and_validation_data.shuffle(BUFFER_SIZE)\n",
    "\n",
    "validation_data = shuffled_train_and_validation_data.take(num_validation)\n",
    "train_data = shuffled_train_and_validation_data.skip(num_validation)\n",
    "\n",
    "BATCH_SIZE = 100\n",
    "train_data = train_data.batch(BATCH_SIZE)\n",
    "\n",
    "validation_data = validation_data.batch(num_validation)\n",
    "test_data = test_data.batch(num_test)\n",
    "\n",
    "validation_inputs, validation_targets = next(iter(validation_data))"
   ]
  },
  {
   "cell_type": "markdown",
   "metadata": {},
   "source": [
    "### 4. Outline and test model"
   ]
  },
  {
   "cell_type": "code",
   "execution_count": 22,
   "metadata": {},
   "outputs": [
    {
     "name": "stdout",
     "output_type": "stream",
     "text": [
      "Epoch 1/5\n",
      "540/540 - 7s - loss: 0.4180 - accuracy: 0.8799 - val_loss: 0.2200 - val_accuracy: 0.9368\n",
      "Epoch 2/5\n",
      "540/540 - 4s - loss: 0.1921 - accuracy: 0.9437 - val_loss: 0.1701 - val_accuracy: 0.9502\n",
      "Epoch 3/5\n",
      "540/540 - 4s - loss: 0.1477 - accuracy: 0.9545 - val_loss: 0.1312 - val_accuracy: 0.9645\n",
      "Epoch 4/5\n",
      "540/540 - 3s - loss: 0.1226 - accuracy: 0.9633 - val_loss: 0.1366 - val_accuracy: 0.9607\n",
      "Epoch 5/5\n",
      "540/540 - 4s - loss: 0.1067 - accuracy: 0.9676 - val_loss: 0.1035 - val_accuracy: 0.9722\n",
      "1/1 [==============================] - 0s 2ms/step - loss: 0.1180 - accuracy: 0.9623\n"
     ]
    }
   ],
   "source": [
    "# Outline model\n",
    "input_size = 784\n",
    "output_size = 10\n",
    "hidden_layer_size = 40\n",
    "\n",
    "model = tf.keras.Sequential([\n",
    "                            tf.keras.layers.Flatten(input_shape=(28,28,1)),\n",
    "                            tf.keras.layers.Dense(hidden_layer_size, activation='relu'),\n",
    "                            tf.keras.layers.Dense(hidden_layer_size, activation='relu'),\n",
    "                            tf.keras.layers.Dense(hidden_layer_size, activation='relu'),\n",
    "                            tf.keras.layers.Dense(output_size, activation='softmax')\n",
    "                            ])\n",
    "# choose optimizer and the loss function\n",
    "\n",
    "model.compile(optimizer='adam', loss='sparse_categorical_crossentropy', metrics=['accuracy'])\n",
    "\n",
    "# training\n",
    "NUM_EPOCHS = 5\n",
    "\n",
    "model.fit(train_data, epochs = NUM_EPOCHS, validation_data = (validation_inputs, validation_targets), verbose=2)\n",
    "\n",
    "test_loss, test_accuracy = model.evaluate(test_data)"
   ]
  }
 ],
 "metadata": {
  "kernelspec": {
   "display_name": "Python 3",
   "language": "python",
   "name": "python3"
  },
  "language_info": {
   "codemirror_mode": {
    "name": "ipython",
    "version": 3
   },
   "file_extension": ".py",
   "mimetype": "text/x-python",
   "name": "python",
   "nbconvert_exporter": "python",
   "pygments_lexer": "ipython3",
   "version": "3.7.6"
  }
 },
 "nbformat": 4,
 "nbformat_minor": 4
}
