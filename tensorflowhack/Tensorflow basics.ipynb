{
 "cells": [
  {
   "cell_type": "code",
   "execution_count": 3,
   "metadata": {},
   "outputs": [
    {
     "name": "stdout",
     "output_type": "stream",
     "text": [
      "<module 'tensorflow._api.v2.version' from '/Users/tobiaslange/opt/anaconda3/lib/python3.7/site-packages/tensorflow/_api/v2/version/__init__.py'>\n",
      "()\n"
     ]
    },
    {
     "data": {
      "text/plain": [
       "<tf.Tensor: shape=(), dtype=int32, numpy=2>"
      ]
     },
     "execution_count": 3,
     "metadata": {},
     "output_type": "execute_result"
    }
   ],
   "source": [
    "import tensorflow as tf\n",
    "\n",
    "print (tf.version)\n",
    "\n",
    "number = tf.Variable(324, tf.int16)\n",
    "\n",
    "print (number.shape)\n",
    "\n",
    "# each tensor represents a partially defined computation that will eventually produce a value. each tensor has datatype and shape - has numbers. scalar is one number\n",
    "\n",
    "rank1_tensor = tf.Variable([\"Test\"], tf.string)\n",
    "rank2_tensor = tf.Variable([[\"test\", \"ok\", \"abc\"], [\"test\", \"yes\", 'abc']], tf.string)\n",
    "\n",
    "tf.rank(rank2_tensor)"
   ]
  },
  {
   "cell_type": "code",
   "execution_count": 4,
   "metadata": {},
   "outputs": [
    {
     "data": {
      "text/plain": [
       "TensorShape([2, 3])"
      ]
     },
     "execution_count": 4,
     "metadata": {},
     "output_type": "execute_result"
    }
   ],
   "source": [
    "rank2_tensor.shape"
   ]
  },
  {
   "cell_type": "code",
   "execution_count": 7,
   "metadata": {},
   "outputs": [
    {
     "name": "stdout",
     "output_type": "stream",
     "text": [
      "tf.Tensor(\n",
      "[[[1. 1. 1.]\n",
      "  [1. 1. 1.]]], shape=(1, 2, 3), dtype=float32)\n",
      "tf.Tensor(\n",
      "[[[1.]\n",
      "  [1.]\n",
      "  [1.]]\n",
      "\n",
      " [[1.]\n",
      "  [1.]\n",
      "  [1.]]], shape=(2, 3, 1), dtype=float32)\n",
      "tf.Tensor(\n",
      "[[1. 1.]\n",
      " [1. 1.]\n",
      " [1. 1.]], shape=(3, 2), dtype=float32)\n"
     ]
    }
   ],
   "source": [
    "tensor1 = tf.ones([1,2,3])\n",
    "tensor2 = tf.reshape(tensor1, [2, 3, 1])\n",
    "tensor3 = tf.reshape(tensor2, [3, -1])\n",
    "print (tensor1)\n",
    "print (tensor2)\n",
    "print (tensor3)"
   ]
  },
  {
   "cell_type": "code",
   "execution_count": null,
   "metadata": {},
   "outputs": [],
   "source": [
    "tensor2.shape"
   ]
  },
  {
   "cell_type": "code",
   "execution_count": null,
   "metadata": {},
   "outputs": [],
   "source": [
    "t = tf.zeros([5, 5, 5, 5])\n",
    "print (t)"
   ]
  },
  {
   "cell_type": "code",
   "execution_count": null,
   "metadata": {},
   "outputs": [],
   "source": [
    "t = tf.reshape(t, [125, -1])\n",
    "print (t)"
   ]
  },
  {
   "cell_type": "code",
   "execution_count": null,
   "metadata": {},
   "outputs": [],
   "source": [
    "# core ML algos - linear regression, classification, clustering, hidden markov models\n",
    "\n",
    "import matplotlib.pyplot as plt\n",
    "import numpy as np\n",
    "x = [1, 2, 3, 4, 5]\n",
    "y = [2, 4, 5.4, 7.2, 9]\n",
    "plt.plot(x, y, \"ro\")"
   ]
  },
  {
   "cell_type": "code",
   "execution_count": null,
   "metadata": {},
   "outputs": [],
   "source": [
    " !pip install -q sklearn"
   ]
  },
  {
   "cell_type": "code",
   "execution_count": null,
   "metadata": {},
   "outputs": [],
   "source": [
    "import numpy as np\n",
    "import pandas as pd\n",
    "import matplotlib.pyplot as plt\n",
    "import tensorflow as tf\n",
    "import tensorflow.compat.v2.feature_column as fc\n",
    "data =pd.read_csv('hw4_trainingset.csv')\n",
    "print (data)\n",
    "# Importing SKlearn's  package \n",
    "from sklearn.model_selection import train_test_split\n",
    "\n",
    "# this splits the data \n",
    "train, test = train_test_split(data, test_size = .2)\n",
    "print (train)\n",
    "print (test)\n",
    "y_train = train.pop('Label')\n",
    "print (y_train)\n",
    "y_eval = test.pop(\"Label\")\n",
    "print (train.shape)\n",
    "train.describe()\n",
    "train.Feature_1.hist(bins = 20)\n",
    "\n",
    "# things\n",
    "\n",
    "feature_columns = []\n",
    "NUMERIC_COLUMNS = ['Feature_1', \"Feature_2\", \"Feature_3\",'Feature_4', \"Feature_5\", \"Feature_6\"]\n",
    "for feature_name in NUMERIC_COLUMNS:\n",
    "  feature_columns.append(tf.feature_column.numeric_column(feature_name, dtype=tf.float32))\n",
    "\n",
    "print(feature_columns)\n",
    "\n",
    "\n",
    "\n",
    "# training computer suppose you have crazy dataset, laod into batches, give 32 entries at once to the model\n",
    "# epoch - pass data to model, pretty bad, feed data again in diff order, model look at it in diff way\n",
    "\n",
    "def make_input_fn(data_df, label_df, num_epochs=10, shuffle=True, batch_size=32):\n",
    "  def input_function():\n",
    "    ds = tf.data.Dataset.from_tensor_slices((dict(data_df), label_df))\n",
    "    if shuffle:\n",
    "      ds = ds.shuffle(1000)\n",
    "    ds = ds.batch(batch_size).repeat(num_epochs)\n",
    "    return ds\n",
    "  return input_function\n",
    "\n",
    "train_input_fn = make_input_fn(train, y_train)  # here we will call the input_function that was returned to us to get a dataset object we can feed to the model\n",
    "eval_input_fn = make_input_fn(eval, y_eval, num_epochs=1, shuffle=False)\n",
    "\n",
    "linear_est = tf.estimator.LinearClassifier(feature_columns = feature_columns)\n",
    "linear_est.train(train_input_fn)\n",
    "result = linear_est.evaluate(eval_input_fn)\n",
    "\n",
    "print (result['accuracy'])"
   ]
  },
  {
   "cell_type": "code",
   "execution_count": null,
   "metadata": {},
   "outputs": [],
   "source": [
    "### input layer is data we have, then take outputs as inputs for another layer, another\n",
    "### until we decide to stop, last we build is output layer, compare targets to!\n",
    "### first layer is input layer, last layer is output layer, layers between are hidden layers\n",
    "### each hidden unit is element of tensor, number of nodes in layer is referred to as width of layer\n",
    "### depth refers to number of hidden layers in a network, when we create an ML algo pick width/depth as hyperparameters\n",
    "### parameters are weights/biases, h yperparameters is width/depth/learning rate\n",
    "### hyperparamaters preset\n",
    "### combine inputs linearly, then apply them non-linearily\n",
    "### non-linearity doesn't change shape of expression, if 8 input layers predict 9, 72 weights, 72 arrows!\n",
    "\n",
    "\n",
    "### prepreocessing applies to dataset through model\n",
    "\n",
    "# feature scaling/normalization\n",
    "\n",
    "# MNIST DATASET - 70k handwritten digits, have 10 digits, 10 classes (0-9)\n",
    "\n",
    "# takes as input, determines which number is shown!\n",
    "\n",
    "# MNIST is the hello world of machine learning, each image is 28-28 pixels, 28x28 matrix where input values are 0--?255\n",
    "# 0 is black, 255 is white, 784 pixels, flatten - put in 784 inputs!\n",
    "# 2 hidden layers, 10 classes, 10 output units!\n",
    "# then compared to targets, use one-hot encoding for vectors...\n",
    "# use softmax activation function for the layer\n",
    "\n",
    "## deep neural network for MNIST\n",
    "\n",
    "import numpy as np\n",
    "import tensorflow as tf\n",
    "\n",
    "import tensorflow_datasets as tfds\n",
    "\n",
    "# DATA\n",
    "\n",
    "mnist_dataset, mnist_info = tfds.load(name=\"mnist\", with_info=True, as_supervised=True)\n",
    "\n",
    "# split train/test\n",
    "mnist_train, mnist_test = mnist_dataset[\"train\"], mnist_dataset[\"test\"]\n",
    "# where is validation?\n",
    "num_validation_samples = 0.1 * mnist_info.splits[\"train\"].num_examples\n",
    "num_validation_samples = tf.cast(num_validation_samples, tf.int64)\n",
    "\n",
    "num_test_samples = mnist_info.splits['test'].num_examples\n",
    "num_test_samples = tf.cast(num_test_samples, tf.int64)\n",
    "\n",
    "# scale data in some way to make result mroe numerically stable\n",
    "\n",
    "def scale(image, label):\n",
    "    image = tf.cast(image, tf.float32)\n",
    "    image = image / 255\n",
    "    return image, label\n",
    "\n",
    "scaled_train_and_validation_data = mnist_train.map(scale)\n",
    "\n",
    "test_data = mnist_test.map(scale)\n",
    "\n",
    "# shuffle data, get valiation dataset\n",
    "\n",
    "BUFFER_SIZE = 10000 #dealing w/ enormous datasets, cannot shuffle all at once\n",
    "\n",
    "shuffled_train_and_validation_data = scaled_train_and_validation_data.shuffle(BUFFER_SIZE)\n",
    "\n",
    "validation_data = shuffled_train_and_validation_data.take(num_validation_samples)\n",
    "train_data = shuffled_train_and_validation_data.skip(num_validation_samples)\n",
    "\n",
    "\n",
    "BATCH_SIZE = 100\n",
    "train_data = train_data.batch(BATCH_SIZE)\n",
    "\n",
    "validation_data = validation_data.batch(num_validation_samples)\n",
    "test_data = test_data.batch(num_test_samples)\n",
    "\n",
    "validation_inputs, validation_targets = next(iter(validation_data))\n",
    "\n",
    "# Outline model\n",
    "input_size = 784\n",
    "output_size = 10\n",
    "hidden_layer_size = 50\n",
    "\n",
    "model = tf.keras.Sequential([\n",
    "                            tf.keras.layers.Flatten(input_shape=(28,28,1)),\n",
    "                            tf.keras.layers.Dense(hidden_layer_size, activation='relu'),\n",
    "                            tf.keras.layers.Dense(hidden_layer_size, activation='relu'),\n",
    "                            tf.keras.layers.Dense(output_size, activation='softmax')\n",
    "                            ])\n",
    "# choose optimizer and the loss function\n",
    "\n",
    "model.compile(optimizer='adam', loss='sparse_categorical_crossentropy', metrics=['accuracy'])\n",
    "\n",
    "# training\n",
    "NUM_EPOCHS = 5\n",
    "\n",
    "model.fit(train_data, epochs = NUM_EPOCHS, validation_data = (validation_inputs, validation_targets), verbose=2)\n",
    "\n",
    "test_loss, test_accuracy = model.evaluate(test_data)"
   ]
  },
  {
   "cell_type": "code",
   "execution_count": null,
   "metadata": {},
   "outputs": [],
   "source": [
    "def scale(image, label):\n",
    "    image = tf.cast(image, tf.float32)\n",
    "    return image / 255, label\n",
    "\n",
    "scaled_train_and_validation_data = mnist_train.map(scale)\n",
    "\n",
    "test_data = mnist_test.map(scale)\n",
    "\n",
    "# shuffle data, get valiation dataset\n",
    "\n",
    "BUFFER_SIZE = 10000 #dealing w/ enormous datasets, cannot shuffle all at once\n",
    "\n",
    "shuffled_train_and_validation_data = scaled_train_and_validation_data.shuffle(BUFFER_SIZE)\n",
    "\n",
    "validation_data = shuffled_train_and_validation_data.take(num_validation_samples)\n",
    "train_data = shuffled_train_and_validation_data.skip(num_validation_samples)\n",
    "\n",
    "\n",
    "BATCH_SIZE = 100\n",
    "train_data = train_data.batch(BATCH_SIZE)\n",
    "\n",
    "validation_data = validation_data.batch(num_validation_samples)\n",
    "test_data = test_data.batch(num_test_samples)\n",
    "\n",
    "validation_inputs, validation_targets = next(iter(validation_data))\n",
    "\n",
    "# Outline model\n",
    "input_size = 784\n",
    "output_size = 10\n",
    "hidden_layer_size = 50\n",
    "\n",
    "model = tf.keras.Sequential([\n",
    "                            tf.keras.layers.Flatten(input_shape=(28,28,1)),\n",
    "                            tf.keras.layers.Dense(hidden_layer_size, activation='relu'),\n",
    "                            tf.keras.layers.Dense(hidden_layer_size, activation='relu'),\n",
    "                            tf.keras.layers.Dense(output_size, activation='softmax')\n",
    "                            ])\n",
    "# choose optimizer and the loss function\n",
    "\n",
    "model.compile(optimizer='adam', loss='sparse_categorical_crossentropy', metrics=['accuracy'])\n",
    "\n",
    "# training\n",
    "NUM_EPOCHS = 5\n",
    "\n",
    "model.fit(train_data, epochs = NUM_EPOCHS, validation_data = (validation_inputs, validation_targets), verbose=2)\n",
    "\n",
    "test_loss, test_accuracy = model.evaluate(test_data)"
   ]
  }
 ],
 "metadata": {
  "kernelspec": {
   "display_name": "Python 3",
   "language": "python",
   "name": "python3"
  },
  "language_info": {
   "codemirror_mode": {
    "name": "ipython",
    "version": 3
   },
   "file_extension": ".py",
   "mimetype": "text/x-python",
   "name": "python",
   "nbconvert_exporter": "python",
   "pygments_lexer": "ipython3",
   "version": "3.7.6"
  }
 },
 "nbformat": 4,
 "nbformat_minor": 4
}
